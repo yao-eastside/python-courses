{
 "cells": [
  {
   "cell_type": "code",
   "execution_count": 2,
   "metadata": {},
   "outputs": [],
   "source": [
    "import numpy as np"
   ]
  },
  {
   "cell_type": "code",
   "execution_count": 3,
   "metadata": {},
   "outputs": [],
   "source": [
    "import pandas as pd"
   ]
  },
  {
   "cell_type": "code",
   "execution_count": 9,
   "metadata": {},
   "outputs": [],
   "source": [
    "iris = pd.read_csv('iris.csv')"
   ]
  },
  {
   "cell_type": "code",
   "execution_count": 11,
   "metadata": {},
   "outputs": [
    {
     "data": {
      "text/html": [
       "<div>\n",
       "<style scoped>\n",
       "    .dataframe tbody tr th:only-of-type {\n",
       "        vertical-align: middle;\n",
       "    }\n",
       "\n",
       "    .dataframe tbody tr th {\n",
       "        vertical-align: top;\n",
       "    }\n",
       "\n",
       "    .dataframe thead th {\n",
       "        text-align: right;\n",
       "    }\n",
       "</style>\n",
       "<table border=\"1\" class=\"dataframe\">\n",
       "  <thead>\n",
       "    <tr style=\"text-align: right;\">\n",
       "      <th></th>\n",
       "      <th>sepal.length</th>\n",
       "      <th>sepal.width</th>\n",
       "      <th>petal.length</th>\n",
       "      <th>petal.width</th>\n",
       "      <th>variety</th>\n",
       "    </tr>\n",
       "  </thead>\n",
       "  <tbody>\n",
       "    <tr>\n",
       "      <th>0</th>\n",
       "      <td>5.1</td>\n",
       "      <td>3.5</td>\n",
       "      <td>1.4</td>\n",
       "      <td>0.2</td>\n",
       "      <td>Setosa</td>\n",
       "    </tr>\n",
       "    <tr>\n",
       "      <th>1</th>\n",
       "      <td>4.9</td>\n",
       "      <td>3.0</td>\n",
       "      <td>1.4</td>\n",
       "      <td>0.2</td>\n",
       "      <td>Setosa</td>\n",
       "    </tr>\n",
       "    <tr>\n",
       "      <th>2</th>\n",
       "      <td>4.7</td>\n",
       "      <td>3.2</td>\n",
       "      <td>1.3</td>\n",
       "      <td>0.2</td>\n",
       "      <td>Setosa</td>\n",
       "    </tr>\n",
       "    <tr>\n",
       "      <th>3</th>\n",
       "      <td>4.6</td>\n",
       "      <td>3.1</td>\n",
       "      <td>1.5</td>\n",
       "      <td>0.2</td>\n",
       "      <td>Setosa</td>\n",
       "    </tr>\n",
       "    <tr>\n",
       "      <th>4</th>\n",
       "      <td>5.0</td>\n",
       "      <td>3.6</td>\n",
       "      <td>1.4</td>\n",
       "      <td>0.2</td>\n",
       "      <td>Setosa</td>\n",
       "    </tr>\n",
       "    <tr>\n",
       "      <th>...</th>\n",
       "      <td>...</td>\n",
       "      <td>...</td>\n",
       "      <td>...</td>\n",
       "      <td>...</td>\n",
       "      <td>...</td>\n",
       "    </tr>\n",
       "    <tr>\n",
       "      <th>145</th>\n",
       "      <td>6.7</td>\n",
       "      <td>3.0</td>\n",
       "      <td>5.2</td>\n",
       "      <td>2.3</td>\n",
       "      <td>Virginica</td>\n",
       "    </tr>\n",
       "    <tr>\n",
       "      <th>146</th>\n",
       "      <td>6.3</td>\n",
       "      <td>2.5</td>\n",
       "      <td>5.0</td>\n",
       "      <td>1.9</td>\n",
       "      <td>Virginica</td>\n",
       "    </tr>\n",
       "    <tr>\n",
       "      <th>147</th>\n",
       "      <td>6.5</td>\n",
       "      <td>3.0</td>\n",
       "      <td>5.2</td>\n",
       "      <td>2.0</td>\n",
       "      <td>Virginica</td>\n",
       "    </tr>\n",
       "    <tr>\n",
       "      <th>148</th>\n",
       "      <td>6.2</td>\n",
       "      <td>3.4</td>\n",
       "      <td>5.4</td>\n",
       "      <td>2.3</td>\n",
       "      <td>Virginica</td>\n",
       "    </tr>\n",
       "    <tr>\n",
       "      <th>149</th>\n",
       "      <td>5.9</td>\n",
       "      <td>3.0</td>\n",
       "      <td>5.1</td>\n",
       "      <td>1.8</td>\n",
       "      <td>Virginica</td>\n",
       "    </tr>\n",
       "  </tbody>\n",
       "</table>\n",
       "<p>150 rows × 5 columns</p>\n",
       "</div>"
      ],
      "text/plain": [
       "     sepal.length  sepal.width  petal.length  petal.width    variety\n",
       "0             5.1          3.5           1.4          0.2     Setosa\n",
       "1             4.9          3.0           1.4          0.2     Setosa\n",
       "2             4.7          3.2           1.3          0.2     Setosa\n",
       "3             4.6          3.1           1.5          0.2     Setosa\n",
       "4             5.0          3.6           1.4          0.2     Setosa\n",
       "..            ...          ...           ...          ...        ...\n",
       "145           6.7          3.0           5.2          2.3  Virginica\n",
       "146           6.3          2.5           5.0          1.9  Virginica\n",
       "147           6.5          3.0           5.2          2.0  Virginica\n",
       "148           6.2          3.4           5.4          2.3  Virginica\n",
       "149           5.9          3.0           5.1          1.8  Virginica\n",
       "\n",
       "[150 rows x 5 columns]"
      ]
     },
     "execution_count": 11,
     "metadata": {},
     "output_type": "execute_result"
    }
   ],
   "source": [
    "iris"
   ]
  },
  {
   "cell_type": "code",
   "execution_count": 12,
   "metadata": {},
   "outputs": [
    {
     "data": {
      "text/plain": [
       "sepal.length    float64\n",
       "sepal.width     float64\n",
       "petal.length    float64\n",
       "petal.width     float64\n",
       "variety          object\n",
       "dtype: object"
      ]
     },
     "execution_count": 12,
     "metadata": {},
     "output_type": "execute_result"
    }
   ],
   "source": [
    "iris.dtypes"
   ]
  },
  {
   "cell_type": "code",
   "execution_count": 13,
   "metadata": {},
   "outputs": [
    {
     "data": {
      "text/plain": [
       "0      5.1\n",
       "1      4.9\n",
       "2      4.7\n",
       "3      4.6\n",
       "4      5.0\n",
       "      ... \n",
       "145    6.7\n",
       "146    6.3\n",
       "147    6.5\n",
       "148    6.2\n",
       "149    5.9\n",
       "Name: sepal.length, Length: 150, dtype: float64"
      ]
     },
     "execution_count": 13,
     "metadata": {},
     "output_type": "execute_result"
    }
   ],
   "source": [
    "iris['sepal.length']"
   ]
  },
  {
   "cell_type": "code",
   "execution_count": 14,
   "metadata": {},
   "outputs": [
    {
     "data": {
      "text/plain": [
       "pandas.core.series.Series"
      ]
     },
     "execution_count": 14,
     "metadata": {},
     "output_type": "execute_result"
    }
   ],
   "source": [
    "type(iris['sepal.length'])"
   ]
  },
  {
   "cell_type": "code",
   "execution_count": 15,
   "metadata": {},
   "outputs": [
    {
     "data": {
      "text/plain": [
       "pandas.core.frame.DataFrame"
      ]
     },
     "execution_count": 15,
     "metadata": {},
     "output_type": "execute_result"
    }
   ],
   "source": [
    "type(iris)"
   ]
  },
  {
   "cell_type": "markdown",
   "metadata": {},
   "source": [
    "# comments"
   ]
  },
  {
   "cell_type": "code",
   "execution_count": 16,
   "metadata": {},
   "outputs": [],
   "source": [
    "# for non-deep learning\n",
    "# we always represent data as pandas dataframe\n",
    "# we then convert it to numpy so we can do computation on it"
   ]
  },
  {
   "cell_type": "code",
   "execution_count": 18,
   "metadata": {},
   "outputs": [],
   "source": [
    "# for deep leaerning\n",
    "# it is more popular to use tensor, which is an extension to numpy"
   ]
  },
  {
   "cell_type": "markdown",
   "metadata": {},
   "source": [
    "# numpy"
   ]
  },
  {
   "cell_type": "code",
   "execution_count": 19,
   "metadata": {},
   "outputs": [
    {
     "data": {
      "text/plain": [
       "array([0., 0., 0., 0., 0.])"
      ]
     },
     "execution_count": 19,
     "metadata": {},
     "output_type": "execute_result"
    }
   ],
   "source": [
    "np.zeros(5)"
   ]
  },
  {
   "cell_type": "code",
   "execution_count": 28,
   "metadata": {},
   "outputs": [
    {
     "data": {
      "text/plain": [
       "array([[0.70085574, 0.33320501, 0.86555722, 0.62164489],\n",
       "       [0.39006196, 0.1557894 , 0.46415948, 0.79992745],\n",
       "       [0.19151468, 0.04157592, 0.31721154, 0.63644089],\n",
       "       [0.71351845, 0.02675619, 0.37259328, 0.03313772],\n",
       "       [0.46842556, 0.15345472, 0.98117188, 0.46819723],\n",
       "       [0.82717405, 0.32927001, 0.31630087, 0.02080311]])"
      ]
     },
     "execution_count": 28,
     "metadata": {},
     "output_type": "execute_result"
    }
   ],
   "source": [
    "a = np.random.random((6, 4))\n",
    "a"
   ]
  },
  {
   "cell_type": "code",
   "execution_count": 32,
   "metadata": {},
   "outputs": [
    {
     "data": {
      "image/png": "[encoded data removed]",
      "text/plain": [
       "<Figure size 432x288 with 1 Axes>"
      ]
     },
     "metadata": {
      "needs_background": "light"
     },
     "output_type": "display_data"
    }
   ],
   "source": [
    "import matplotlib.pyplot as plt\n",
    "plt.imshow(a.T, cmap=\"hot\")\n",
    "plt.show()"
   ]
  },
  {
   "cell_type": "code",
   "execution_count": 33,
   "metadata": {},
   "outputs": [
    {
     "data": {
      "text/plain": [
       "array([[0.26474431, 0.00614043, 0.88100785, 0.16547752],\n",
       "       [0.24886691, 0.38612015, 0.85808102, 0.69605008],\n",
       "       [0.18829593, 0.04550751, 0.34918294, 0.04963088],\n",
       "       [0.31609731, 0.40043002, 0.27492858, 0.90346049],\n",
       "       [0.22700562, 0.72417598, 0.93993218, 0.81014749],\n",
       "       [0.25720075, 0.96089258, 0.29980903, 0.23248414]])"
      ]
     },
     "execution_count": 33,
     "metadata": {},
     "output_type": "execute_result"
    }
   ],
   "source": [
    "a = np.random.random((6, 4))\n",
    "a"
   ]
  },
  {
   "cell_type": "code",
   "execution_count": 34,
   "metadata": {},
   "outputs": [
    {
     "data": {
      "text/plain": [
       "(6, 4)"
      ]
     },
     "execution_count": 34,
     "metadata": {},
     "output_type": "execute_result"
    }
   ],
   "source": [
    "a.shape"
   ]
  },
  {
   "cell_type": "code",
   "execution_count": 35,
   "metadata": {},
   "outputs": [
    {
     "data": {
      "text/plain": [
       "array([[0.73260893, 0.30787553, 0.57610153, 0.03695458],\n",
       "       [0.16317915, 0.73588963, 0.88416048, 0.12831918],\n",
       "       [0.47485936, 0.45867795, 0.45816598, 0.61224407],\n",
       "       [0.29505339, 0.50802277, 0.36478278, 0.28737616],\n",
       "       [0.52295498, 0.6896088 , 0.37386   , 0.91915123],\n",
       "       [0.37836909, 0.8190617 , 0.70701893, 0.22931025]])"
      ]
     },
     "execution_count": 35,
     "metadata": {},
     "output_type": "execute_result"
    }
   ],
   "source": [
    "b = np.random.random((6, 4))\n",
    "b"
   ]
  },
  {
   "cell_type": "code",
   "execution_count": 36,
   "metadata": {},
   "outputs": [
    {
     "data": {
      "text/plain": [
       "array([[0.26474431, 0.00614043, 0.88100785, 0.16547752],\n",
       "       [0.24886691, 0.38612015, 0.85808102, 0.69605008],\n",
       "       [0.18829593, 0.04550751, 0.34918294, 0.04963088],\n",
       "       [0.31609731, 0.40043002, 0.27492858, 0.90346049],\n",
       "       [0.22700562, 0.72417598, 0.93993218, 0.81014749],\n",
       "       [0.25720075, 0.96089258, 0.29980903, 0.23248414],\n",
       "       [0.73260893, 0.30787553, 0.57610153, 0.03695458],\n",
       "       [0.16317915, 0.73588963, 0.88416048, 0.12831918],\n",
       "       [0.47485936, 0.45867795, 0.45816598, 0.61224407],\n",
       "       [0.29505339, 0.50802277, 0.36478278, 0.28737616],\n",
       "       [0.52295498, 0.6896088 , 0.37386   , 0.91915123],\n",
       "       [0.37836909, 0.8190617 , 0.70701893, 0.22931025]])"
      ]
     },
     "execution_count": 36,
     "metadata": {},
     "output_type": "execute_result"
    }
   ],
   "source": [
    "np.concatenate([a, b], axis=0)"
   ]
  },
  {
   "cell_type": "code",
   "execution_count": 39,
   "metadata": {},
   "outputs": [
    {
     "data": {
      "text/plain": [
       "array([[0.26474431, 0.00614043, 0.88100785, 0.16547752, 0.73260893,\n",
       "        0.30787553, 0.57610153, 0.03695458],\n",
       "       [0.24886691, 0.38612015, 0.85808102, 0.69605008, 0.16317915,\n",
       "        0.73588963, 0.88416048, 0.12831918],\n",
       "       [0.18829593, 0.04550751, 0.34918294, 0.04963088, 0.47485936,\n",
       "        0.45867795, 0.45816598, 0.61224407],\n",
       "       [0.31609731, 0.40043002, 0.27492858, 0.90346049, 0.29505339,\n",
       "        0.50802277, 0.36478278, 0.28737616],\n",
       "       [0.22700562, 0.72417598, 0.93993218, 0.81014749, 0.52295498,\n",
       "        0.6896088 , 0.37386   , 0.91915123],\n",
       "       [0.25720075, 0.96089258, 0.29980903, 0.23248414, 0.37836909,\n",
       "        0.8190617 , 0.70701893, 0.22931025]])"
      ]
     },
     "execution_count": 39,
     "metadata": {},
     "output_type": "execute_result"
    }
   ],
   "source": [
    "c = np.concatenate([a, b], axis=1)\n",
    "c"
   ]
  },
  {
   "cell_type": "code",
   "execution_count": 40,
   "metadata": {},
   "outputs": [
    {
     "data": {
      "text/plain": [
       "array([[0.26474431, 0.00614043, 0.88100785, 0.16547752],\n",
       "       [0.24886691, 0.38612015, 0.85808102, 0.69605008],\n",
       "       [0.18829593, 0.04550751, 0.34918294, 0.04963088],\n",
       "       [0.31609731, 0.40043002, 0.27492858, 0.90346049],\n",
       "       [0.22700562, 0.72417598, 0.93993218, 0.81014749],\n",
       "       [0.25720075, 0.96089258, 0.29980903, 0.23248414]])"
      ]
     },
     "execution_count": 40,
     "metadata": {},
     "output_type": "execute_result"
    }
   ],
   "source": [
    "a"
   ]
  },
  {
   "cell_type": "code",
   "execution_count": 41,
   "metadata": {},
   "outputs": [
    {
     "data": {
      "text/plain": [
       "array([[0.99735324, 0.31401596, 1.45710939, 0.20243211],\n",
       "       [0.41204606, 1.12200978, 1.7422415 , 0.82436926],\n",
       "       [0.66315528, 0.50418546, 0.80734892, 0.66187494],\n",
       "       [0.6111507 , 0.90845279, 0.63971135, 1.19083664],\n",
       "       [0.7499606 , 1.41378478, 1.31379218, 1.72929871],\n",
       "       [0.63556984, 1.77995429, 1.00682796, 0.46179439]])"
      ]
     },
     "execution_count": 41,
     "metadata": {},
     "output_type": "execute_result"
    }
   ],
   "source": [
    "a + b"
   ]
  },
  {
   "cell_type": "code",
   "execution_count": 42,
   "metadata": {},
   "outputs": [
    {
     "data": {
      "text/plain": [
       "array([[-0.46786462, -0.3017351 ,  0.30490632,  0.12852294],\n",
       "       [ 0.08568776, -0.34976948, -0.02607946,  0.56773089],\n",
       "       [-0.28656343, -0.41317045, -0.10898304, -0.56261319],\n",
       "       [ 0.02104391, -0.10759275, -0.0898542 ,  0.61608433],\n",
       "       [-0.29594936,  0.03456718,  0.56607218, -0.10900374],\n",
       "       [-0.12116834,  0.14183088, -0.4072099 ,  0.00317389]])"
      ]
     },
     "execution_count": 42,
     "metadata": {},
     "output_type": "execute_result"
    }
   ],
   "source": [
    "a - b"
   ]
  },
  {
   "cell_type": "code",
   "execution_count": 43,
   "metadata": {},
   "outputs": [
    {
     "data": {
      "text/plain": [
       "array([[0.19395405, 0.00189049, 0.50754998, 0.00611515],\n",
       "       [0.04060989, 0.28414181, 0.75868133, 0.08931658],\n",
       "       [0.08941408, 0.02087329, 0.15998375, 0.03038621],\n",
       "       [0.09326558, 0.20342757, 0.10028921, 0.259633  ],\n",
       "       [0.11871372, 0.49939813, 0.35140304, 0.74464806],\n",
       "       [0.09731681, 0.78703032, 0.21197066, 0.053311  ]])"
      ]
     },
     "execution_count": 43,
     "metadata": {},
     "output_type": "execute_result"
    }
   ],
   "source": [
    "a * b"
   ]
  },
  {
   "cell_type": "code",
   "execution_count": 44,
   "metadata": {},
   "outputs": [
    {
     "data": {
      "text/plain": [
       "array([[0.36137194, 0.01994451, 1.52925796, 4.47786198],\n",
       "       [1.52511461, 0.52469845, 0.9705037 , 5.42436501],\n",
       "       [0.39652989, 0.09921451, 0.76213196, 0.08106387],\n",
       "       [1.07132239, 0.78821273, 0.75367751, 3.14382548],\n",
       "       [0.43408253, 1.05012578, 2.51412878, 0.88140826],\n",
       "       [0.67976153, 1.17316263, 0.42404668, 1.01384104]])"
      ]
     },
     "execution_count": 44,
     "metadata": {},
     "output_type": "execute_result"
    }
   ],
   "source": [
    "a / b"
   ]
  },
  {
   "cell_type": "code",
   "execution_count": 46,
   "metadata": {},
   "outputs": [
    {
     "data": {
      "text/plain": [
       "array([[0.61410753, 0.7142082 , 0.75254522],\n",
       "       [0.47097367, 0.3229435 , 0.74752759]])"
      ]
     },
     "execution_count": 46,
     "metadata": {},
     "output_type": "execute_result"
    }
   ],
   "source": [
    "a1 = np.random.random((2, 3))\n",
    "a1"
   ]
  },
  {
   "cell_type": "code",
   "execution_count": 47,
   "metadata": {},
   "outputs": [
    {
     "data": {
      "text/plain": [
       "array([[0.53593755, 0.30774513],\n",
       "       [0.85616782, 0.9524523 ],\n",
       "       [0.99099844, 0.62576861]])"
      ]
     },
     "execution_count": 47,
     "metadata": {},
     "output_type": "execute_result"
    }
   ],
   "source": [
    "b1 = np.random.random((3, 2))\n",
    "b1"
   ]
  },
  {
   "cell_type": "code",
   "execution_count": 48,
   "metadata": {},
   "outputs": [
    {
     "data": {
      "text/plain": [
       "array([[1.6863765 , 1.34015702],\n",
       "       [1.26970498, 0.92030743]])"
      ]
     },
     "execution_count": 48,
     "metadata": {},
     "output_type": "execute_result"
    }
   ],
   "source": [
    "a1 @ b1"
   ]
  },
  {
   "cell_type": "code",
   "execution_count": 49,
   "metadata": {},
   "outputs": [
    {
     "data": {
      "text/plain": [
       "array([[0.61410753, 0.7142082 , 0.75254522],\n",
       "       [0.47097367, 0.3229435 , 0.74752759]])"
      ]
     },
     "execution_count": 49,
     "metadata": {},
     "output_type": "execute_result"
    }
   ],
   "source": [
    "a1"
   ]
  },
  {
   "cell_type": "code",
   "execution_count": 50,
   "metadata": {},
   "outputs": [
    {
     "data": {
      "text/plain": [
       "array([0, 0, 0])"
      ]
     },
     "execution_count": 50,
     "metadata": {},
     "output_type": "execute_result"
    }
   ],
   "source": [
    "np.argmax(a1, axis=0)\n",
    "# 0, 0, 0\n",
    "# 2, 2"
   ]
  },
  {
   "cell_type": "code",
   "execution_count": 51,
   "metadata": {},
   "outputs": [
    {
     "data": {
      "text/plain": [
       "array([2, 2])"
      ]
     },
     "execution_count": 51,
     "metadata": {},
     "output_type": "execute_result"
    }
   ],
   "source": [
    "np.argmax(a1, axis=1)"
   ]
  },
  {
   "cell_type": "code",
   "execution_count": 52,
   "metadata": {},
   "outputs": [],
   "source": [
    "# 1000 * 10 p(i=0...9)"
   ]
  },
  {
   "cell_type": "code",
   "execution_count": 53,
   "metadata": {},
   "outputs": [
    {
     "data": {
      "text/plain": [
       "array([[0.11653189, 0.45008989, 0.7794474 ],\n",
       "       [0.6562677 , 0.42651704, 0.88934714],\n",
       "       [0.66208665, 0.89659391, 0.79180562],\n",
       "       [0.5975207 , 0.98290157, 0.09363902],\n",
       "       [0.62670048, 0.73906446, 0.92428904],\n",
       "       [0.13810946, 0.6561723 , 0.54669488],\n",
       "       [0.18342377, 0.17822292, 0.56783571],\n",
       "       [0.12406694, 0.66742183, 0.18045629],\n",
       "       [0.37517301, 0.59061759, 0.93134028],\n",
       "       [0.13584122, 0.22907202, 0.91091723]])"
      ]
     },
     "execution_count": 53,
     "metadata": {},
     "output_type": "execute_result"
    }
   ],
   "source": [
    "a1 = np.random.random((10, 3))\n",
    "a1"
   ]
  },
  {
   "cell_type": "code",
   "execution_count": 54,
   "metadata": {},
   "outputs": [
    {
     "data": {
      "text/plain": [
       "array([2, 2, 1, 1, 2, 1, 2, 1, 2, 2])"
      ]
     },
     "execution_count": 54,
     "metadata": {},
     "output_type": "execute_result"
    }
   ],
   "source": [
    "np.argmax(a1, axis=1)"
   ]
  },
  {
   "cell_type": "code",
   "execution_count": 55,
   "metadata": {},
   "outputs": [],
   "source": [
    "# Next Class\n",
    "# Do some exercise on numpy\n",
    "# Learn Pandas"
   ]
  },
  {
   "cell_type": "code",
   "execution_count": null,
   "metadata": {},
   "outputs": [],
   "source": []
  }
 ],
 "metadata": {
  "kernelspec": {
   "display_name": "Python 3",
   "language": "python",
   "name": "python3"
  },
  "language_info": {
   "codemirror_mode": {
    "name": "ipython",
    "version": 3
   },
   "file_extension": ".py",
   "mimetype": "text/x-python",
   "name": "python",
   "nbconvert_exporter": "python",
   "pygments_lexer": "ipython3",
   "version": "3.7.3"
  }
 },
 "nbformat": 4,
 "nbformat_minor": 4
}
