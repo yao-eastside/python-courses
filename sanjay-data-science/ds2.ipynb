{
 "cells": [
  {
   "cell_type": "code",
   "execution_count": 1,
   "metadata": {},
   "outputs": [],
   "source": [
    "import pandas"
   ]
  },
  {
   "cell_type": "code",
   "execution_count": 2,
   "metadata": {},
   "outputs": [],
   "source": [
    "import numpy as np\n",
    "import matplotlib.pyplot as plt"
   ]
  },
  {
   "cell_type": "code",
   "execution_count": 4,
   "metadata": {},
   "outputs": [
    {
     "data": {
      "text/plain": [
       "array([[0.59471282, 0.47829655, 0.65723749, 0.38502331, 0.46447124,\n",
       "        0.11285146, 0.18540532, 0.09675562, 0.77690413, 0.99610272,\n",
       "        0.5140953 , 0.38661676, 0.67264753, 0.95602332, 0.79390709,\n",
       "        0.59719627, 0.09072895, 0.65773741, 0.2393748 , 0.27732291,\n",
       "        0.83540409, 0.58421625, 0.54228934, 0.20799756, 0.79401991,\n",
       "        0.17000646, 0.55089027, 0.48569903, 0.10359251, 0.17528345,\n",
       "        0.08097118, 0.74691659, 0.30214425, 0.96673486, 0.6457947 ,\n",
       "        0.00627247],\n",
       "       [0.06071081, 0.16998683, 0.57156398, 0.10853447, 0.17208754,\n",
       "        0.87068777, 0.61093328, 0.01020186, 0.0647084 , 0.02171392,\n",
       "        0.42987146, 0.91982505, 0.14469901, 0.1484005 , 0.35613953,\n",
       "        0.73695611, 0.14778665, 0.94609066, 0.07269984, 0.08454156,\n",
       "        0.25104572, 0.15023873, 0.86154068, 0.47553247, 0.45013989,\n",
       "        0.8751388 , 0.71042018, 0.28385708, 0.97077039, 0.4411038 ,\n",
       "        0.39087841, 0.02661426, 0.53953946, 0.71013319, 0.35795538,\n",
       "        0.3520086 ],\n",
       "       [0.66790185, 0.96831385, 0.67356178, 0.53690402, 0.75041084,\n",
       "        0.91306514, 0.16669323, 0.24310525, 0.97480615, 0.44328284,\n",
       "        0.39884185, 0.71538664, 0.94146636, 0.38164536, 0.53174262,\n",
       "        0.03622864, 0.46419248, 0.97509006, 0.00280855, 0.93080079,\n",
       "        0.25841366, 0.89468683, 0.1041394 , 0.02476396, 0.38682699,\n",
       "        0.24004249, 0.91795388, 0.41379753, 0.52322498, 0.99832893,\n",
       "        0.71399856, 0.5152135 , 0.0021785 , 0.706796  , 0.39937135,\n",
       "        0.79871177],\n",
       "       [0.93881503, 0.41862903, 0.4151743 , 0.67221122, 0.50756026,\n",
       "        0.41504285, 0.42371421, 0.48947935, 0.31916803, 0.15017854,\n",
       "        0.68755177, 0.37494188, 0.79947672, 0.30704354, 0.63691759,\n",
       "        0.10492115, 0.21166728, 0.60740008, 0.11919778, 0.63333422,\n",
       "        0.30562566, 0.66968391, 0.28899616, 0.7411875 , 0.25537125,\n",
       "        0.32978646, 0.42229401, 0.68578477, 0.49295899, 0.02528112,\n",
       "        0.84995655, 0.62260774, 0.91870698, 0.30943495, 0.27969082,\n",
       "        0.31116422],\n",
       "       [0.9391722 , 0.29809166, 0.64847449, 0.59608885, 0.07716764,\n",
       "        0.11695638, 0.80871724, 0.33795101, 0.88242919, 0.08250883,\n",
       "        0.58124467, 0.97804634, 0.34845591, 0.93917101, 0.79178618,\n",
       "        0.22586793, 0.43567839, 0.94123152, 0.03470359, 0.44117497,\n",
       "        0.71866961, 0.86038102, 0.0259008 , 0.64208154, 0.41698098,\n",
       "        0.80529495, 0.16277725, 0.48064991, 0.91000395, 0.63500485,\n",
       "        0.70936871, 0.45243763, 0.08004511, 0.09362637, 0.37014688,\n",
       "        0.0051051 ],\n",
       "       [0.43710489, 0.66603456, 0.0749271 , 0.68150309, 0.64353832,\n",
       "        0.83740236, 0.29341928, 0.66222562, 0.05094969, 0.14144841,\n",
       "        0.76581618, 0.26243781, 0.63857707, 0.67571472, 0.54747434,\n",
       "        0.99811457, 0.1208388 , 0.15668761, 0.54754534, 0.04883317,\n",
       "        0.15298014, 0.22033885, 0.94501132, 0.55458549, 0.97365786,\n",
       "        0.60383661, 0.90907216, 0.76861757, 0.47942909, 0.62832343,\n",
       "        0.10970502, 0.30922989, 0.10548699, 0.69250985, 0.48800981,\n",
       "        0.20314427],\n",
       "       [0.62896803, 0.12262302, 0.03994927, 0.36916914, 0.69052645,\n",
       "        0.73830252, 0.54243747, 0.17281254, 0.40283766, 0.81603126,\n",
       "        0.62424259, 0.85266057, 0.58643903, 0.12366112, 0.09833155,\n",
       "        0.44193866, 0.07899575, 0.0411155 , 0.5486538 , 0.92286488,\n",
       "        0.72778073, 0.3980156 , 0.28385983, 0.23215312, 0.8837897 ,\n",
       "        0.88324612, 0.27649714, 0.79230841, 0.55811071, 0.62087006,\n",
       "        0.77980123, 0.63197815, 0.22603687, 0.34801087, 0.13109736,\n",
       "        0.00825585],\n",
       "       [0.53821824, 0.514031  , 0.70662232, 0.77234404, 0.8309968 ,\n",
       "        0.49762993, 0.72272832, 0.72982696, 0.76025974, 0.53912859,\n",
       "        0.25695771, 0.07840276, 0.65754744, 0.50190582, 0.90914948,\n",
       "        0.18970241, 0.80865283, 0.85036386, 0.77101837, 0.70696696,\n",
       "        0.00374819, 0.56174349, 0.23438659, 0.63588182, 0.87510057,\n",
       "        0.58757772, 0.79379298, 0.79247771, 0.64881307, 0.97094751,\n",
       "        0.83709824, 0.68471984, 0.14026675, 0.40289446, 0.50177848,\n",
       "        0.80362383],\n",
       "       [0.45160117, 0.67995987, 0.47431445, 0.77852821, 0.93740235,\n",
       "        0.57814862, 0.74463025, 0.87095013, 0.00576544, 0.00501993,\n",
       "        0.6977948 , 0.67309196, 0.93213614, 0.23408313, 0.74400904,\n",
       "        0.34517191, 0.53461095, 0.35674863, 0.72475618, 0.33544319,\n",
       "        0.45701164, 0.59454005, 0.62798955, 0.45221453, 0.91183781,\n",
       "        0.67063827, 0.8560038 , 0.72320673, 0.41882581, 0.83478824,\n",
       "        0.09584687, 0.91314386, 0.25117147, 0.50201643, 0.81880574,\n",
       "        0.38540197],\n",
       "       [0.89004023, 0.19036256, 0.91465101, 0.11253416, 0.73534716,\n",
       "        0.28311761, 0.7374995 , 0.40034455, 0.49400236, 0.65002436,\n",
       "        0.37592982, 0.02837184, 0.09622305, 0.59738163, 0.15077698,\n",
       "        0.47450484, 0.37662273, 0.16280903, 0.10321002, 0.78070673,\n",
       "        0.69614198, 0.30043138, 0.29459985, 0.81947349, 0.55399708,\n",
       "        0.84715216, 0.11173181, 0.25159007, 0.23131869, 0.59042621,\n",
       "        0.70175355, 0.93623594, 0.09705828, 0.94571801, 0.82210767,\n",
       "        0.15594059],\n",
       "       [0.74684125, 0.53280272, 0.8742667 , 0.45350407, 0.35360592,\n",
       "        0.35082276, 0.57790116, 0.93221331, 0.03486761, 0.61632123,\n",
       "        0.13547638, 0.86089878, 0.91882314, 0.1535792 , 0.20781209,\n",
       "        0.57301861, 0.03379497, 0.593192  , 0.74781393, 0.15153809,\n",
       "        0.38311559, 0.11164837, 0.66993909, 0.93787396, 0.40991155,\n",
       "        0.2651581 , 0.78770144, 0.53730685, 0.29149383, 0.6935576 ,\n",
       "        0.0483245 , 0.25236338, 0.51575781, 0.85997685, 0.04242406,\n",
       "        0.03433181],\n",
       "       [0.55089717, 0.43896869, 0.94379895, 0.50189062, 0.83811118,\n",
       "        0.14911593, 0.84807638, 0.92204801, 0.67400654, 0.18602704,\n",
       "        0.51209946, 0.0933954 , 0.17034656, 0.11901929, 0.28837906,\n",
       "        0.85269814, 0.34831833, 0.94513899, 0.82585061, 0.6046695 ,\n",
       "        0.64063037, 0.20814026, 0.71367901, 0.32003319, 0.48673107,\n",
       "        0.86004904, 0.93493517, 0.68131932, 0.65944162, 0.18207347,\n",
       "        0.72252198, 0.45558127, 0.11587841, 0.63105734, 0.20495462,\n",
       "        0.55510748],\n",
       "       [0.67488734, 0.79314678, 0.40425509, 0.4506433 , 0.11695037,\n",
       "        0.48857429, 0.97425143, 0.14289305, 0.34100706, 0.99065035,\n",
       "        0.37274141, 0.27475237, 0.77061591, 0.0356306 , 0.67742007,\n",
       "        0.3682895 , 0.19567159, 0.33019332, 0.38494845, 0.6680653 ,\n",
       "        0.24695578, 0.01747081, 0.25631734, 0.91302111, 0.42701428,\n",
       "        0.09929986, 0.54237052, 0.50817054, 0.91726693, 0.52333092,\n",
       "        0.70987309, 0.38614415, 0.04661113, 0.4959782 , 0.54005664,\n",
       "        0.43135014],\n",
       "       [0.79370212, 0.35836645, 0.32191399, 0.12435358, 0.40222701,\n",
       "        0.98032228, 0.82275043, 0.80569209, 0.2169904 , 0.48919856,\n",
       "        0.11023876, 0.25483203, 0.67219423, 0.15029883, 0.69404702,\n",
       "        0.05406184, 0.05531625, 0.67748445, 0.68699089, 0.80121007,\n",
       "        0.68566844, 0.82008909, 0.69897292, 0.4779819 , 0.04721536,\n",
       "        0.05860515, 0.85316979, 0.41574982, 0.86518586, 0.74046584,\n",
       "        0.79791518, 0.80119698, 0.17189086, 0.40237468, 0.26355621,\n",
       "        0.18686954],\n",
       "       [0.13565511, 0.82809725, 0.6110125 , 0.80762832, 0.65385019,\n",
       "        0.61257898, 0.82419432, 0.63531193, 0.27061676, 0.92374635,\n",
       "        0.65899827, 0.8669493 , 0.09032275, 0.08232255, 0.08713867,\n",
       "        0.16925873, 0.4562377 , 0.05616924, 0.23618157, 0.2389912 ,\n",
       "        0.1502447 , 0.94398698, 0.49747978, 0.89248401, 0.31653716,\n",
       "        0.58867111, 0.58757746, 0.01217496, 0.13309839, 0.81782745,\n",
       "        0.92591802, 0.5448297 , 0.68782964, 0.91133079, 0.97076931,\n",
       "        0.59899714],\n",
       "       [0.57378003, 0.70152166, 0.15740365, 0.90695454, 0.87914733,\n",
       "        0.25120235, 0.08475485, 0.52933588, 0.07463656, 0.06772573,\n",
       "        0.55929031, 0.79772519, 0.74576816, 0.84461035, 0.22555663,\n",
       "        0.48139839, 0.18540223, 0.41317971, 0.71348675, 0.39139447,\n",
       "        0.13392377, 0.06051173, 0.84204346, 0.19992071, 0.16410187,\n",
       "        0.72927318, 0.44684636, 0.02203451, 0.03238189, 0.34754989,\n",
       "        0.91312051, 0.93788382, 0.50861155, 0.38886421, 0.47625065,\n",
       "        0.74280606]])"
      ]
     },
     "execution_count": 4,
     "metadata": {},
     "output_type": "execute_result"
    }
   ],
   "source": [
    "a = np.random.random((16, 36))\n",
    "a"
   ]
  },
  {
   "cell_type": "code",
   "execution_count": 5,
   "metadata": {},
   "outputs": [
    {
     "data": {
      "image/png": "[encoded data removed]",
      "text/plain": [
       "<Figure size 432x288 with 1 Axes>"
      ]
     },
     "metadata": {
      "needs_background": "light"
     },
     "output_type": "display_data"
    }
   ],
   "source": [
    "plt.imshow(a, cmap=\"hot\")\n",
    "plt.show()"
   ]
  },
  {
   "cell_type": "code",
   "execution_count": null,
   "metadata": {},
   "outputs": [],
   "source": []
  },
  {
   "cell_type": "code",
   "execution_count": 7,
   "metadata": {},
   "outputs": [],
   "source": [
    "b = np.array(['a', 'b'])"
   ]
  },
  {
   "cell_type": "code",
   "execution_count": 8,
   "metadata": {},
   "outputs": [
    {
     "data": {
      "text/plain": [
       "array(['a', 'b'], dtype='<U1')"
      ]
     },
     "execution_count": 8,
     "metadata": {},
     "output_type": "execute_result"
    }
   ],
   "source": [
    "b"
   ]
  },
  {
   "cell_type": "code",
   "execution_count": 9,
   "metadata": {},
   "outputs": [
    {
     "data": {
      "text/plain": [
       "numpy.ndarray"
      ]
     },
     "execution_count": 9,
     "metadata": {},
     "output_type": "execute_result"
    }
   ],
   "source": [
    "type(b)"
   ]
  },
  {
   "cell_type": "code",
   "execution_count": null,
   "metadata": {},
   "outputs": [],
   "source": []
  },
  {
   "cell_type": "code",
   "execution_count": 10,
   "metadata": {},
   "outputs": [],
   "source": [
    "c = [[1,2,3],[4,5]]"
   ]
  },
  {
   "cell_type": "code",
   "execution_count": 11,
   "metadata": {},
   "outputs": [
    {
     "data": {
      "text/plain": [
       "[[1, 2, 3], [4, 5]]"
      ]
     },
     "execution_count": 11,
     "metadata": {},
     "output_type": "execute_result"
    }
   ],
   "source": [
    "c"
   ]
  },
  {
   "cell_type": "code",
   "execution_count": null,
   "metadata": {},
   "outputs": [],
   "source": []
  },
  {
   "cell_type": "code",
   "execution_count": 12,
   "metadata": {},
   "outputs": [],
   "source": [
    "# tensor"
   ]
  },
  {
   "cell_type": "code",
   "execution_count": null,
   "metadata": {},
   "outputs": [],
   "source": []
  }
 ],
 "metadata": {
  "kernelspec": {
   "display_name": "Python 3",
   "language": "python",
   "name": "python3"
  },
  "language_info": {
   "codemirror_mode": {
    "name": "ipython",
    "version": 3
   },
   "file_extension": ".py",
   "mimetype": "text/x-python",
   "name": "python",
   "nbconvert_exporter": "python",
   "pygments_lexer": "ipython3",
   "version": "3.6.8"
  }
 },
 "nbformat": 4,
 "nbformat_minor": 4
}
