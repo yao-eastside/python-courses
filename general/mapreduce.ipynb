{
 "cells": [
  {
   "cell_type": "markdown",
   "metadata": {},
   "source": [
    "# mapreduce"
   ]
  },
  {
   "cell_type": "code",
   "execution_count": 75,
   "metadata": {},
   "outputs": [],
   "source": [
    "# The code here can be scalable to arbitary large input.\n",
    "#\n",
    "# For simplicity, sometimes I store results in memeory.\n",
    "# But all can be changed to write to file as a stream,\n",
    "# therefore it is massively scalable."
   ]
  },
  {
   "cell_type": "code",
   "execution_count": 88,
   "metadata": {},
   "outputs": [],
   "source": [
    "# TODO (shaojun):\n",
    "# Re-write shuffer, so reducer will call next() \n",
    "# to get a list of values for the same key."
   ]
  },
  {
   "cell_type": "markdown",
   "metadata": {},
   "source": [
    "## input"
   ]
  },
  {
   "cell_type": "code",
   "execution_count": 48,
   "metadata": {},
   "outputs": [],
   "source": [
    "text = \"\"\"\n",
    "this is one sentence\n",
    "another one\n",
    "one two\n",
    "final thoughts\n",
    "final thoughts\n",
    "\"\"\""
   ]
  },
  {
   "cell_type": "markdown",
   "metadata": {},
   "source": [
    "## map"
   ]
  },
  {
   "cell_type": "code",
   "execution_count": 63,
   "metadata": {},
   "outputs": [],
   "source": [
    "def map(line):\n",
    "    results = []\n",
    "    words = line.split(' ')\n",
    "    for word in words:\n",
    "        results.append((word, 1))\n",
    "    return results"
   ]
  },
  {
   "cell_type": "code",
   "execution_count": 64,
   "metadata": {},
   "outputs": [
    {
     "data": {
      "text/plain": [
       "[('this', 1),\n",
       " ('is', 1),\n",
       " ('one', 1),\n",
       " ('sentence', 1),\n",
       " ('another', 1),\n",
       " ('one', 1),\n",
       " ('one', 1),\n",
       " ('two', 1),\n",
       " ('final', 1),\n",
       " ('thoughts', 1),\n",
       " ('final', 1),\n",
       " ('thoughts', 1)]"
      ]
     },
     "execution_count": 64,
     "metadata": {},
     "output_type": "execute_result"
    }
   ],
   "source": [
    "result1 = []\n",
    "for sentence in text.split(\"\\n\"):\n",
    "    if not sentence:\n",
    "        continue\n",
    "    # print(sentence)\n",
    "    result1 += map(sentence)\n",
    "result1"
   ]
  },
  {
   "cell_type": "markdown",
   "metadata": {},
   "source": [
    "## shuffle"
   ]
  },
  {
   "cell_type": "code",
   "execution_count": 65,
   "metadata": {},
   "outputs": [],
   "source": [
    "result1.sort()"
   ]
  },
  {
   "cell_type": "code",
   "execution_count": 66,
   "metadata": {},
   "outputs": [
    {
     "data": {
      "text/plain": [
       "[('another', 1),\n",
       " ('final', 1),\n",
       " ('final', 1),\n",
       " ('is', 1),\n",
       " ('one', 1),\n",
       " ('one', 1),\n",
       " ('one', 1),\n",
       " ('sentence', 1),\n",
       " ('this', 1),\n",
       " ('thoughts', 1),\n",
       " ('thoughts', 1),\n",
       " ('two', 1)]"
      ]
     },
     "execution_count": 66,
     "metadata": {},
     "output_type": "execute_result"
    }
   ],
   "source": [
    "result1"
   ]
  },
  {
   "cell_type": "code",
   "execution_count": 67,
   "metadata": {},
   "outputs": [
    {
     "data": {
      "text/plain": [
       "[('another', [1]),\n",
       " ('final', [1, 1]),\n",
       " ('is', [1]),\n",
       " ('one', [1, 1, 1]),\n",
       " ('sentence', [1]),\n",
       " ('this', [1]),\n",
       " ('thoughts', [1, 1]),\n",
       " ('two', [1])]"
      ]
     },
     "execution_count": 67,
     "metadata": {},
     "output_type": "execute_result"
    }
   ],
   "source": [
    "w_prev = None\n",
    "result2 = []\n",
    "fs = []\n",
    "for w, f in result1:\n",
    "    if w_prev is None:\n",
    "        fs.append(f)\n",
    "        w_prev = w\n",
    "    elif w != w_prev:\n",
    "        result2.append((w_prev, fs[:]))\n",
    "        w_prev = w\n",
    "        fs = [f]\n",
    "    else:\n",
    "        fs.append(f)\n",
    "result2.append((w, fs))\n",
    "result2"
   ]
  },
  {
   "cell_type": "code",
   "execution_count": 68,
   "metadata": {},
   "outputs": [
    {
     "data": {
      "text/plain": [
       "('two', [1], 'two')"
      ]
     },
     "execution_count": 68,
     "metadata": {},
     "output_type": "execute_result"
    }
   ],
   "source": [
    "w, fs, w_prev"
   ]
  },
  {
   "cell_type": "markdown",
   "metadata": {},
   "source": [
    "## reduce"
   ]
  },
  {
   "cell_type": "code",
   "execution_count": 69,
   "metadata": {},
   "outputs": [],
   "source": [
    "def reduce(line):\n",
    "    w, fs = line\n",
    "    count = 0\n",
    "    for f in fs:\n",
    "        count += f\n",
    "    return w, count"
   ]
  },
  {
   "cell_type": "code",
   "execution_count": 71,
   "metadata": {},
   "outputs": [],
   "source": [
    "output = []\n",
    "for line in result2:\n",
    "    output.append(reduce(line))"
   ]
  },
  {
   "cell_type": "markdown",
   "metadata": {},
   "source": [
    "## output"
   ]
  },
  {
   "cell_type": "code",
   "execution_count": 72,
   "metadata": {},
   "outputs": [
    {
     "data": {
      "text/plain": [
       "[('another', 1),\n",
       " ('final', 2),\n",
       " ('is', 1),\n",
       " ('one', 3),\n",
       " ('sentence', 1),\n",
       " ('this', 1),\n",
       " ('thoughts', 2),\n",
       " ('two', 1)]"
      ]
     },
     "execution_count": 72,
     "metadata": {},
     "output_type": "execute_result"
    }
   ],
   "source": [
    "output"
   ]
  },
  {
   "cell_type": "code",
   "execution_count": 84,
   "metadata": {},
   "outputs": [
    {
     "name": "stdout",
     "output_type": "stream",
     "text": [
      "\n",
      "this is one sentence\n",
      "another one\n",
      "one two\n",
      "final thoughts\n",
      "final thoughts\n",
      "\n"
     ]
    }
   ],
   "source": [
    "# compare with the input\n",
    "\n",
    "print(text)"
   ]
  },
  {
   "cell_type": "code",
   "execution_count": null,
   "metadata": {},
   "outputs": [],
   "source": []
  }
 ],
 "metadata": {
  "kernelspec": {
   "display_name": "Python 3",
   "language": "python",
   "name": "python3"
  },
  "language_info": {
   "codemirror_mode": {
    "name": "ipython",
    "version": 3
   },
   "file_extension": ".py",
   "mimetype": "text/x-python",
   "name": "python",
   "nbconvert_exporter": "python",
   "pygments_lexer": "ipython3",
   "version": "3.8.3"
  }
 },
 "nbformat": 4,
 "nbformat_minor": 4
}
